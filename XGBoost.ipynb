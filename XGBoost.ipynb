{
 "cells": [
  {
   "cell_type": "code",
   "execution_count": 5,
   "metadata": {},
   "outputs": [
    {
     "name": "stdout",
     "output_type": "stream",
     "text": [
      "Requirement already satisfied: xgboost in c:\\users\\daneil\\appdata\\local\\packages\\pythonsoftwarefoundation.python.3.11_qbz5n2kfra8p0\\localcache\\local-packages\\python311\\site-packages (2.0.3)Note: you may need to restart the kernel to use updated packages.\n",
      "\n",
      "Requirement already satisfied: numpy in c:\\users\\daneil\\appdata\\local\\packages\\pythonsoftwarefoundation.python.3.11_qbz5n2kfra8p0\\localcache\\local-packages\\python311\\site-packages (from xgboost) (1.26.4)\n",
      "Requirement already satisfied: scipy in c:\\users\\daneil\\appdata\\local\\packages\\pythonsoftwarefoundation.python.3.11_qbz5n2kfra8p0\\localcache\\local-packages\\python311\\site-packages (from xgboost) (1.12.0)\n"
     ]
    }
   ],
   "source": [
    "%pip install xgboost"
   ]
  },
  {
   "cell_type": "code",
   "execution_count": 6,
   "metadata": {},
   "outputs": [
    {
     "name": "stdout",
     "output_type": "stream",
     "text": [
      "150\n",
      "4\n",
      "['setosa', 'versicolor', 'virginica']\n"
     ]
    }
   ],
   "source": [
    "from sklearn.datasets import load_iris\n",
    "\n",
    "iris = load_iris()\n",
    "\n",
    "numSamples, numFeatures = iris.data.shape\n",
    "print(numSamples)\n",
    "print(numFeatures)\n",
    "print(list(iris.target_names))\n"
   ]
  },
  {
   "cell_type": "code",
   "execution_count": 7,
   "metadata": {},
   "outputs": [],
   "source": [
    "from sklearn.model_selection import train_test_split\n",
    "\n",
    "X_train, X_test, y_train, y_test = train_test_split(iris.data, iris.target, test_size=0.2, random_state=0)"
   ]
  },
  {
   "cell_type": "code",
   "execution_count": 8,
   "metadata": {},
   "outputs": [],
   "source": [
    "import xgboost as xgb\n",
    "\n",
    "train = xgb.DMatrix(X_train, label=y_train)\n",
    "test = xgb.DMatrix(X_test, label=y_test)\n"
   ]
  },
  {
   "cell_type": "code",
   "execution_count": 9,
   "metadata": {},
   "outputs": [],
   "source": [
    "param = {\n",
    "    'max_depth': 3,  # the maximum depth of each tree\n",
    "    'eta': 0.3,  # the training step for each iteration\n",
    "    'objective': 'multi:softmax',  # error evaluation for multiclass training\n",
    "    'num_class': 3} \n",
    "epochs = 10  # the number of training iterations"
   ]
  },
  {
   "cell_type": "code",
   "execution_count": 10,
   "metadata": {},
   "outputs": [],
   "source": [
    "model = xgb.train(param, train, epochs)"
   ]
  },
  {
   "cell_type": "code",
   "execution_count": 11,
   "metadata": {},
   "outputs": [
    {
     "name": "stdout",
     "output_type": "stream",
     "text": [
      "[[0.0357017  0.08567287 0.87862545]\n",
      " [0.02657836 0.94590074 0.0275209 ]\n",
      " [0.9500841  0.02605757 0.02385837]\n",
      " [0.02296571 0.02523242 0.9518019 ]\n",
      " [0.9500841  0.02605757 0.02385837]\n",
      " [0.02296571 0.02523242 0.9518019 ]\n",
      " [0.9500841  0.02605757 0.02385837]\n",
      " [0.02629321 0.9357522  0.03795451]\n",
      " [0.02657836 0.94590074 0.0275209 ]\n",
      " [0.02657836 0.94590074 0.0275209 ]\n",
      " [0.09770989 0.45810926 0.44418088]\n",
      " [0.02629321 0.9357522  0.03795451]\n",
      " [0.02657836 0.94590074 0.0275209 ]\n",
      " [0.02579406 0.91798794 0.05621797]\n",
      " [0.02657836 0.94590074 0.0275209 ]\n",
      " [0.9500841  0.02605757 0.02385837]\n",
      " [0.02595719 0.92379355 0.05024927]\n",
      " [0.02657836 0.94590074 0.0275209 ]\n",
      " [0.9500841  0.02605757 0.02385837]\n",
      " [0.9500841  0.02605757 0.02385837]\n",
      " [0.0382752  0.18306208 0.7786627 ]\n",
      " [0.02595719 0.92379355 0.05024927]\n",
      " [0.9500841  0.02605757 0.02385837]\n",
      " [0.9500841  0.02605757 0.02385837]\n",
      " [0.0710742  0.20532945 0.7235964 ]\n",
      " [0.9500841  0.02605757 0.02385837]\n",
      " [0.9500841  0.02605757 0.02385837]\n",
      " [0.02657836 0.94590074 0.0275209 ]\n",
      " [0.03033772 0.93824875 0.03141356]\n",
      " [0.9500841  0.02605757 0.02385837]]\n"
     ]
    }
   ],
   "source": [
    "predictions = model.predict(test)\n",
    "print(predictions)"
   ]
  }
 ],
 "metadata": {
  "kernelspec": {
   "display_name": "Python 3",
   "language": "python",
   "name": "python3"
  },
  "language_info": {
   "codemirror_mode": {
    "name": "ipython",
    "version": 3
   },
   "file_extension": ".py",
   "mimetype": "text/x-python",
   "name": "python",
   "nbconvert_exporter": "python",
   "pygments_lexer": "ipython3",
   "version": "3.11.8"
  }
 },
 "nbformat": 4,
 "nbformat_minor": 2
}
